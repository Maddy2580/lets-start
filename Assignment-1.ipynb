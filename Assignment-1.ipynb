{
 "cells": [
  {
   "cell_type": "raw",
   "id": "c1fdaadd",
   "metadata": {},
   "source": [
    "Answer to qn.1\n",
    "\n",
    "From the below elements 'hello' , -87.8 , 6 are the values. \n",
    "\n",
    "and the expressions are  (* , - , / , + ) ."
   ]
  },
  {
   "cell_type": "raw",
   "id": "191cbc12",
   "metadata": {},
   "source": [
    "Qn-2\n",
    "\n",
    "What is the difference between string and variable?\n",
    "\n",
    "answer:-\n",
    "\n",
    "variables are like an empty box where we can store the information. in short we can store information in a variable.\n",
    "\n",
    "string is one type of information which we store in a variable."
   ]
  },
  {
   "cell_type": "raw",
   "id": "a1b8aeed",
   "metadata": {},
   "source": [
    "Qn-3 answer\n",
    "\n",
    "- There are different type of data types in python one of them os numeric data type. these data type contains the data which has numeric value. these values can be of integer, float,complex type. \n",
    "\n",
    "- integer values( defined as int) has whole number values. ex:- 10\n",
    "\n",
    "- float values (defined as float) has the values which has whole value and decomal value. ex:- 6.58\n",
    "\n",
    "- complex values (defined as complex), these values has both real part and imaginary part. ex:- 5+6j\n",
    "\n",
    "\n",
    "- another type data type is Boolean data type.\n",
    "This data type contains only two values as True and false.\n",
    "\n",
    "\n",
    "- the next datatype is string data type.\n",
    "this datatype is a collection of single or multiple characters within single quotes,doubles quotes or tripple qoutes.\n",
    "\n"
   ]
  },
  {
   "cell_type": "raw",
   "id": "8c2059b9",
   "metadata": {},
   "source": [
    "Qn-4 What is an expression made up of? What do all expressions do?\n",
    "\n",
    "- An expression is made up of different variables(operands) and operators.\n",
    "\n",
    "- Expressions provide the result or value after being evaluated by the python interpreter."
   ]
  },
  {
   "cell_type": "raw",
   "id": "9ea70f45",
   "metadata": {},
   "source": [
    " Qn 5 This assignment statements, like spam = 10. What is the difference between an\n",
    "expression and a statement?\n",
    "\n",
    "- A statement is used to create variables or for assigning some values to the variable or to display a variable. where as Expressions provide the result or value after being evaluated by the python interpreter.\n",
    "\n",
    "- statements are do not evaluate to produce some results but expressions evaluate to produce some result.\n",
    "\n",
    "- a statement can be a expression bot not the vice versa.\n"
   ]
  },
  {
   "cell_type": "code",
   "execution_count": 3,
   "id": "d46634fb",
   "metadata": {},
   "outputs": [
    {
     "name": "stdout",
     "output_type": "stream",
     "text": [
      "22\n"
     ]
    }
   ],
   "source": [
    "#After running the following code, what does the variable bacon contain?\n",
    "#bacon = 22\n",
    "#bacon + 1\n",
    "\n",
    "bacon= 22\n",
    "bacon + 1\n",
    "print(bacon)\n",
    "\n",
    "#output will be 22 only.\n",
    "#bacon + 1 wont change the value to 23 because it is just a statement.\n",
    "#if the it would be an expression like bacon=bacon + 1 then the output would be 23."
   ]
  },
  {
   "cell_type": "raw",
   "id": "b247034d",
   "metadata": {},
   "source": [
    "Answer of Qn-7\n",
    "\n",
    "both the expression will produce the same output\n",
    "\n",
    "spamspamspam\n",
    "\n",
    "first expession will be just concatenate the two statement.\n",
    "second one will produce the word spam three time\n"
   ]
  },
  {
   "cell_type": "code",
   "execution_count": 4,
   "id": "03a32bf1",
   "metadata": {},
   "outputs": [
    {
     "data": {
      "text/plain": [
       "'spamspamspam'"
      ]
     },
     "execution_count": 4,
     "metadata": {},
     "output_type": "execute_result"
    }
   ],
   "source": [
    "'spam'+ 'spamspam'"
   ]
  },
  {
   "cell_type": "code",
   "execution_count": 5,
   "id": "a71c9cd4",
   "metadata": {},
   "outputs": [
    {
     "data": {
      "text/plain": [
       "'spamspamspam'"
      ]
     },
     "execution_count": 5,
     "metadata": {},
     "output_type": "execute_result"
    }
   ],
   "source": [
    "'spam'*3"
   ]
  },
  {
   "cell_type": "raw",
   "id": "99b298fe",
   "metadata": {},
   "source": [
    " Qn-8 Why is eggs a valid variable name while 100 is invalid?\n",
    " \n",
    " variables name can not be initiated with numbers."
   ]
  },
  {
   "cell_type": "raw",
   "id": "448d0926",
   "metadata": {},
   "source": [
    "Answer of Qn-9\n",
    "\n",
    "int(), float(), and str() functions will convert the value which is passed to them into integer, floating-point number, and string versions respectively."
   ]
  },
  {
   "cell_type": "raw",
   "id": "1ebdaa3b",
   "metadata": {},
   "source": [
    "Qn-10\n",
    "\n",
    "'i have eaten' + 99 + 'burritos'\n",
    "\n",
    "this expreesion will produce an error because values of only same datatypes can be added. \n",
    "\n",
    "we can write this as \n",
    "\n",
    "'i have eaten' + str(99) + 'burritos'\n",
    "\n",
    "'i have eaten' + '99' + 'burritos'"
   ]
  },
  {
   "cell_type": "code",
   "execution_count": null,
   "id": "0205a2fa",
   "metadata": {},
   "outputs": [],
   "source": []
  }
 ],
 "metadata": {
  "kernelspec": {
   "display_name": "Python 3 (ipykernel)",
   "language": "python",
   "name": "python3"
  },
  "language_info": {
   "codemirror_mode": {
    "name": "ipython",
    "version": 3
   },
   "file_extension": ".py",
   "mimetype": "text/x-python",
   "name": "python",
   "nbconvert_exporter": "python",
   "pygments_lexer": "ipython3",
   "version": "3.10.8"
  }
 },
 "nbformat": 4,
 "nbformat_minor": 5
}
